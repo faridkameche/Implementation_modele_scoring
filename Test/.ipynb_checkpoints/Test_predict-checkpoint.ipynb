{
 "cells": [
  {
   "cell_type": "code",
   "execution_count": 1,
   "id": "0436edf3",
   "metadata": {},
   "outputs": [],
   "source": [
    "import numpy as np\n",
    "import joblib\n",
    "from flask import Flask, request, render_template\n",
    "\n",
    "import pytest\n",
    "\n",
    "pipeline_lgbm = joblib.load(\"Outputs/pipeline_lgbm.joblib\")\n",
    "\n",
    "def test_predict():\n",
    "    liste_feat = []\n",
    "    for i in range (100):\n",
    "        val_1 = np.log10(np.random.randint(0, 2)+1)\n",
    "        val_2 = np.log10(np.random.randint(0, 2)+1)\n",
    "        val_3 = np.log10((np.random.randint(0, 1e6)/1e6)+1)\n",
    "        val_4 = np.log10(np.random.randint(0, 101)+1)\n",
    "        val_5 = np.log10(np.random.randint(0, 33)+1)\n",
    "        val_6 = np.log10(np.random.randint(0, 33)+1)\n",
    "        val_7 = np.log10(np.random.randint(0, 2)+1)\n",
    "        val_8 = np.log10(np.random.randint(0, 2)+1)\n",
    "        liste_feat.append([val_1, val_2, val_3, val_4, val_5, val_6, val_7, val_8])\n",
    "        \n",
    "    import pandas as pd\n",
    "    data_to_test = pd.DataFrame(liste_feat)\n",
    "    y_0 = []\n",
    "    y_1 = []\n",
    "    diff_proba = []\n",
    "    for i in range (100):\n",
    "        y_0.append(pipeline_lgbm.predict_proba(data_to_test.values)[i][0])\n",
    "        y_1.append(pipeline_lgbm.predict_proba(data_to_test.values)[i][1])\n",
    "        diff_proba.append(y_0[i]+y_1[i])\n",
    "    assert (np.unique(diff_proba)) == 1\n",
    "\n",
    "    \n",
    "def predict_str():\n",
    "    x_str = [\"test\", \"string\", \"ne\", \"fonctionne\", \"pas\", \"avec\", \"le\", \"modèle\"]\n",
    "    return pipeline_lgbm.predict_proba(x_str)\n",
    "\n",
    "def test_predict_str():\n",
    "    with pytest.raises(ValueError):\n",
    "        predict_str()"
   ]
  },
  {
   "cell_type": "code",
   "execution_count": null,
   "id": "8eaf1cf8",
   "metadata": {},
   "outputs": [],
   "source": []
  }
 ],
 "metadata": {
  "kernelspec": {
   "display_name": "Python 3 (ipykernel)",
   "language": "python",
   "name": "python3"
  },
  "language_info": {
   "codemirror_mode": {
    "name": "ipython",
    "version": 3
   },
   "file_extension": ".py",
   "mimetype": "text/x-python",
   "name": "python",
   "nbconvert_exporter": "python",
   "pygments_lexer": "ipython3",
   "version": "3.9.16"
  }
 },
 "nbformat": 4,
 "nbformat_minor": 5
}
