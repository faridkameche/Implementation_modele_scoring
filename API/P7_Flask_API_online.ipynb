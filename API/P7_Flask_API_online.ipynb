{
 "cells": [
  {
   "cell_type": "code",
   "execution_count": 2,
   "id": "0436edf3",
   "metadata": {},
   "outputs": [],
   "source": [
    "import os\n",
    "\n",
    "os.environ[\"MKL_NUM_THREADS\"] = \"1\"\n",
    "\n",
    "os.environ[\"NUMEXPR_NUM_THREADS\"] = \"1\"\n",
    "\n",
    "os.environ[\"OMP_NUM_THREADS\"] = \"1\"\n",
    "\n",
    "import numpy as np\n",
    "import joblib\n",
    "from flask import Flask, request, render_template\n",
    "\n",
    "app = Flask(__name__)\n",
    "app.config[\"DEBUG\"] = True\n",
    "\n",
    "pipeline_lgbm = joblib.load(\"/home/Faridkam/.virtualenvs/my-virtualenv/pipeline_lgbm.joblib\")\n",
    "\n",
    "@app.route(\"/\")\n",
    "def home():\n",
    "    return render_template('index.html')\n",
    "\n",
    "@app.route('/predict', methods=['POST'])\n",
    "def predict():\n",
    "\n",
    "    Prop_voiture = np.log10(float(request.form.get(\"Propriétaire_voiture\"))+1)\n",
    "    Prop_maison = np.log10(float(request.form.get(\"Propriétaire_maison\"))+1)\n",
    "    Reg_pop_rel = np.log10((float(request.form.get(\"REGION_POPULATION_RELATIVE\"))/1e6)+1)\n",
    "    Pret_retard = np.log10(float(request.form.get(\"Pourcentage_prêt_retard\"))+1)\n",
    "    Pret_annul = np.log10(float(request.form.get(\"Nombre_prêt_annulé_vendu\"))+1)\n",
    "    Pret_renouvelable = np.log10(float(request.form.get(\"Nombre_ancien_prêt_renouvelable\"))+1)\n",
    "    Business = np.log10(float(request.form.get(\"Emploi_business\"))+1)\n",
    "    Married = np.log10(float(request.form.get(\"Marié\"))+1)\n",
    "\n",
    "    valeur_form = [Prop_voiture, Prop_maison, Reg_pop_rel, Pret_retard, Pret_annul, Pret_renouvelable, Business, Married]\n",
    "    val = [np.array(valeur_form)]\n",
    "\n",
    "    prediction_p = pipeline_lgbm.predict_proba(val)[0][1]\n",
    "\n",
    "    return render_template('index.html', prediction=round(100*prediction_p,2))"
   ]
  }
 ],
 "metadata": {
  "kernelspec": {
   "display_name": "Python 3 (ipykernel)",
   "language": "python",
   "name": "python3"
  },
  "language_info": {
   "codemirror_mode": {
    "name": "ipython",
    "version": 3
   },
   "file_extension": ".py",
   "mimetype": "text/x-python",
   "name": "python",
   "nbconvert_exporter": "python",
   "pygments_lexer": "ipython3",
   "version": "3.9.16"
  }
 },
 "nbformat": 4,
 "nbformat_minor": 5
}
